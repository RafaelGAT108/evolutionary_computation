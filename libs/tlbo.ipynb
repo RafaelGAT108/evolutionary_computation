{
 "cells": [
  {
   "cell_type": "markdown",
   "metadata": {},
   "source": [
    "# Imports"
   ]
  },
  {
   "cell_type": "code",
   "execution_count": 1,
   "metadata": {},
   "outputs": [
    {
     "name": "stderr",
     "output_type": "stream",
     "text": [
      "2024-10-21 21:04:19.797028: I tensorflow/core/util/port.cc:153] oneDNN custom operations are on. You may see slightly different numerical results due to floating-point round-off errors from different computation orders. To turn them off, set the environment variable `TF_ENABLE_ONEDNN_OPTS=0`.\n",
      "2024-10-21 21:04:19.798150: I external/local_xla/xla/tsl/cuda/cudart_stub.cc:32] Could not find cuda drivers on your machine, GPU will not be used.\n",
      "2024-10-21 21:04:19.802451: I external/local_xla/xla/tsl/cuda/cudart_stub.cc:32] Could not find cuda drivers on your machine, GPU will not be used.\n",
      "2024-10-21 21:04:19.815662: E external/local_xla/xla/stream_executor/cuda/cuda_fft.cc:485] Unable to register cuFFT factory: Attempting to register factory for plugin cuFFT when one has already been registered\n",
      "2024-10-21 21:04:19.836429: E external/local_xla/xla/stream_executor/cuda/cuda_dnn.cc:8454] Unable to register cuDNN factory: Attempting to register factory for plugin cuDNN when one has already been registered\n",
      "2024-10-21 21:04:19.842447: E external/local_xla/xla/stream_executor/cuda/cuda_blas.cc:1452] Unable to register cuBLAS factory: Attempting to register factory for plugin cuBLAS when one has already been registered\n",
      "2024-10-21 21:04:19.857575: I tensorflow/core/platform/cpu_feature_guard.cc:210] This TensorFlow binary is optimized to use available CPU instructions in performance-critical operations.\n",
      "To enable the following instructions: AVX2 AVX512F AVX512_VNNI FMA, in other operations, rebuild TensorFlow with the appropriate compiler flags.\n",
      "2024-10-21 21:04:20.844194: W tensorflow/compiler/tf2tensorrt/utils/py_utils.cc:38] TF-TRT Warning: Could not find TensorRT\n"
     ]
    }
   ],
   "source": [
    "from tlbo import TLBO\n",
    "from dataclasses import dataclass, field\n",
    "from typing import Union\n",
    "import numpy as np\n",
    "import pandas as pd\n",
    "import matplotlib.pyplot as plt\n",
    "import time\n",
    "import multiprocessing\n",
    "from sklearn.model_selection import train_test_split, cross_val_score, StratifiedKFold\n",
    "from sklearn.ensemble import RandomForestClassifier, ExtraTreesClassifier\n",
    "from imblearn.over_sampling import SMOTE\n",
    "from sklearn.metrics import accuracy_score, make_scorer, log_loss\n",
    "from sklearn.svm import SVC\n",
    "from sklearn.neighbors import KNeighborsClassifier\n",
    "from tensorflow.keras.optimizers import RMSprop\n",
    "from scikeras.wrappers import KerasClassifier\n",
    "from keras.models import Sequential\n",
    "from keras.layers import Dense\n",
    "from tensorflow.keras.utils import to_categorical\n",
    "import warnings\n",
    "warnings.filterwarnings('ignore')"
   ]
  },
  {
   "cell_type": "markdown",
   "metadata": {},
   "source": [
    "# RandomForest"
   ]
  },
  {
   "cell_type": "code",
   "execution_count": 2,
   "metadata": {},
   "outputs": [],
   "source": [
    "# def run_model(model, X_train, y_train, X_test, y_test):\n",
    "\n",
    "#     scores = cross_val_score(model, X_train, y_train, cv=3)\n",
    "#     mean_score = scores.mean()\n",
    "\n",
    "#     model.fit(X_train, y_train)\n",
    "\n",
    "#     mean_score = round(mean_score, 4)\n",
    "\n",
    "#     return scores, mean_score\n",
    "\n",
    "# def evaluate_function(chromossome):\n",
    "\n",
    "#     # data = pd.read_excel('/home/rafael/Mestrado/Artigo TLBO/database/Principal_homem1.xlsx', sheet_name='Homem 1')\n",
    "#     data = pd.read_csv('/home/rafael/Mestrado/Artigo TLBO/database/homem1.csv', delimiter=';')\n",
    "#     label_counts = data['Output'].value_counts().sort_index()\n",
    "\n",
    "#     # data = pd.read_csv('FinalDataset.csv')\n",
    "#     # data = data.iloc[:, :16]\n",
    "\n",
    "#     # label_counts = data['Label'].value_counts().sort_index()\n",
    "#     data = data.dropna(axis=1)\n",
    "#     colunas_com_infinitos = data.columns[data.isin([np.inf, -np.inf]).any()]\n",
    "\n",
    "#     data = data.drop(columns=colunas_com_infinitos)\n",
    "\n",
    "#     y = data['Output']\n",
    "#     # y = data['Label']\n",
    "#     # X = data.drop(columns=['Label', 'Start Timestamp', 'End Timestamp'], inplace=True)\n",
    "#     X = data.drop(columns=['Output'], inplace=True)\n",
    "#     X = data\n",
    "\n",
    "#     X = X.loc[:, np.array(chromossome, dtype=bool)]\n",
    "\n",
    "#     X_train, X_test, y_train, y_test = train_test_split(X, y, test_size=0.33, random_state=42)\n",
    "\n",
    "#     # oversampling = True\n",
    "\n",
    "#     # if oversampling:\n",
    "#     #     smote = SMOTE(random_state=42)\n",
    "#     #     X_train, y_train = smote.fit_resample(X_train, y_train)\n",
    "\n",
    "#         # print(\"Contagens após o oversampling:\")\n",
    "#         # print(pd.Series(y_train).value_counts().sort_index())\n",
    "\n",
    "#     model_rf = RandomForestClassifier()\n",
    "\n",
    "#     (scores_rf, \n",
    "#     mean_score_rf) = run_model(model=model_rf, \n",
    "#                                   X_train=X_train, \n",
    "#                                   y_train=y_train, \n",
    "#                                   X_test=X_test, \n",
    "#                                   y_test=y_test)\n",
    "    \n",
    "#     features = list(chromossome).count(1)\n",
    "#     # return (1 - mean_score_rf) + 0.015*features\n",
    "#     return (1 - mean_score_rf) + 0.001*features"
   ]
  },
  {
   "cell_type": "code",
   "execution_count": 2,
   "metadata": {},
   "outputs": [],
   "source": [
    "def run_model(model, X_train, y_train, X_test, y_test):\n",
    "    # Usando log_loss (ou outra métrica de erro)\n",
    "    loss_scorer = make_scorer(log_loss, response_method=\"predict_proba\")\n",
    "\n",
    "    scores = cross_val_score(model, X_train, y_train, cv=3, scoring=loss_scorer)\n",
    "    mean_loss = scores.mean()\n",
    "\n",
    "    model.fit(X_train, y_train)\n",
    "\n",
    "    mean_loss = round(mean_loss, 4)\n",
    "\n",
    "    return scores, mean_loss\n",
    "\n",
    "def evaluate_function(chromossome):\n",
    "    data = pd.read_csv('/home/rafael/Mestrado/Artigo TLBO/database/homem1.csv', delimiter=';')\n",
    "    label_counts = data['Output'].value_counts().sort_index()\n",
    "\n",
    "    data = data.dropna(axis=1)\n",
    "    colunas_com_infinitos = data.columns[data.isin([np.inf, -np.inf]).any()]\n",
    "    data = data.drop(columns=colunas_com_infinitos)\n",
    "\n",
    "    y = data['Output']\n",
    "    X = data.drop(columns=['Output'], inplace=False)\n",
    "\n",
    "    X = X.loc[:, np.array(chromossome, dtype=bool)]\n",
    "\n",
    "    X_train, X_test, y_train, y_test = train_test_split(X, y, test_size=0.33, random_state=42)\n",
    "\n",
    "    model_rf = RandomForestClassifier()\n",
    "\n",
    "    (scores_rf, mean_loss_rf) = run_model(model=model_rf, \n",
    "                                          X_train=X_train, \n",
    "                                          y_train=y_train, \n",
    "                                          X_test=X_test, \n",
    "                                          y_test=y_test)\n",
    "    \n",
    "    features = list(chromossome).count(1)\n",
    "    # A função agora retorna a perda média (log_loss) ajustada pela quantidade de features\n",
    "    return mean_loss_rf + 0.001*features\n",
    "    # return mean_loss_rf\n"
   ]
  },
  {
   "cell_type": "code",
   "execution_count": 3,
   "metadata": {},
   "outputs": [
    {
     "name": "stderr",
     "output_type": "stream",
     "text": [
      "Calculating Population Fitness: 100%|██████████| 20/20 [01:24<00:00,  4.22s/it]\n",
      "Calculating Teacher Phase: 100%|██████████| 20/20 [00:00<00:00, 56223.91it/s]\n",
      "Learner Phase: 100%|██████████| 20/20 [00:00<00:00, 190217.87it/s]\n"
     ]
    },
    {
     "name": "stdout",
     "output_type": "stream",
     "text": [
      "Fitness: 0.7017| Best: [0 0 1 0 1 1 0 1 0 0 1 0 0 0 1 1 0 0 1 1 1 0 0 0 0 0 1 0 0 1 1 0 1 0 1 1 0\n",
      " 1 1 0 0 0 0 1 1 0 1 0 1 1 1 0 0 0 1 1 0 1 0 1 0 1 1 0 0 1 1 0 0 1 1 0 1 0\n",
      " 0 1 1 0 0 1 1 0 0 0 0 1 0 1 1 0 0 0 1 1 0 0 0 1 0 0 1 0 0 1 0 1 0 1 1 1 1\n",
      " 0 1 1 0 0 0 0 0 0 1 0 0 1 1 1 1 0 0 1 0 1 0 1 0 0 1 0 1 0 0 0 0 0 0 1 0 1\n",
      " 0 0 1 0 1 0 0 1 0 1 1 1 0 0 0 0 0 0 1 1 1 0 0 1 0 0 1 1 1 0 0 1 0 1 0 1 1\n",
      " 0 0 0 0 1 1 1 0 1 1 1 0 1 1 0 1 1 1 1 1 0 0 1 0 1 0 0 0 0 0 1 0 1 0 0 0 1\n",
      " 1 1 0 0 0 0 0 1 0 0 0 0 0 0 0 1 1 0 1 0 0 1 0 0 1 1 1 0 0 0 0 1 1 0 0 1 1\n",
      " 1 0 1 0 1 0 1 1 1 1 0 1 0 0 0 0 0 1 1 0 1 1 1 1 0 0 0 1 0 0 0 1 0 1 0 0 1\n",
      " 1 1 0 1 0 1 0 1 0 0 1 1 1 1 1 0 0 0 1 0 0 0 1 0 0 1 0 1 0 0 1 1 1 0 1 0 0\n",
      " 1 0 1 1 1 1 0 1 1 1 0 0 0 0 1 1 0 1 0 1 0 1 1 0 1 0 1 0 1 0 0 0 0 1 0 1 0\n",
      " 0 0 1 0 1 1 0 1 0 1 0 0 0 0 0 1 0 0 0 0 0 1 1 0 0 1 1 1 1 0 0 1 0 1 0 0 1\n",
      " 1 1 1 0 1 0 1 1 0 1 0 1 1 0 0 0 1 1 1 0 1 0 0 1 0 0 1 1 1 0 1 0 1 0 0 1 0\n",
      " 1 1 1 1 0 1 1 0 0 1 0 1 1 0 1 1 1 0 0 0 0 0 0 0 1 1 1 1 1 0 0 0 0 1 0 0 0\n",
      " 1 0 0 1 1 0 0 1 0 0 0 0 1 0 0 1 0 0 0 0 0 0 0 1 1 0 1 1 0 0 1 0 1 1 1 1 1\n",
      " 1 0 1 0 1 0 0 0 1 0 0 0 1 0 1 1 0 0 1 1 1 1 0 0 1 0 0 0 1 1 1 0 0 1 0 0 0\n",
      " 0 0 0 0 0 1 0 0 1 1 0 1 1 0 0 1 1 0 1 0 0 1 0 1 0 0 0 1 1 0 0 0 0 0 1 0 1\n",
      " 0 1 0 0 0 0 0 0 0 0 1 1 0 0 1 0 1 0 1 1 1 0 1 0 0 0 0 1 0 0 1 1 0 1 1 0 1\n",
      " 1 0 0 1 1] | features: 287\n",
      "best_student.fitness: 0.7017 | best_overall_student.fitness: 0.7017\n"
     ]
    },
    {
     "name": "stderr",
     "output_type": "stream",
     "text": [
      "Calculating Population Fitness: 100%|██████████| 20/20 [01:39<00:00,  4.97s/it]\n",
      "Calculating Teacher Phase: 100%|██████████| 20/20 [00:00<00:00, 94466.31it/s]\n",
      "Learner Phase: 100%|██████████| 20/20 [00:00<00:00, 236966.33it/s]\n"
     ]
    },
    {
     "name": "stdout",
     "output_type": "stream",
     "text": [
      "Fitness: 0.698| Best: [0 0 1 0 1 1 0 1 0 0 1 0 0 0 1 1 0 0 1 1 1 1 0 0 0 0 1 0 0 1 1 0 1 0 1 1 0\n",
      " 1 1 0 0 0 0 1 1 0 1 0 1 1 1 0 0 0 1 1 0 1 0 1 0 1 1 0 0 1 1 1 0 1 1 0 1 0\n",
      " 0 1 1 0 0 1 1 0 0 0 0 1 0 1 1 0 0 1 1 1 0 0 0 1 0 0 1 0 0 1 0 1 0 0 1 1 1\n",
      " 0 1 1 0 0 0 0 0 0 1 0 0 1 1 1 1 0 0 0 0 1 0 1 0 0 1 0 1 0 0 0 0 0 0 1 0 1\n",
      " 0 0 1 0 1 0 0 1 0 1 1 1 0 1 0 0 0 0 1 1 1 0 0 1 0 0 1 1 1 0 0 1 0 1 0 1 1\n",
      " 0 0 0 0 1 1 1 0 1 1 1 0 1 1 0 1 1 1 1 1 0 0 1 0 1 0 0 0 0 0 1 0 1 0 0 0 1\n",
      " 1 1 1 0 0 0 0 1 0 0 0 0 0 0 0 1 1 0 1 0 0 1 0 0 1 1 1 0 0 0 0 1 1 0 0 1 1\n",
      " 1 0 1 0 1 0 1 1 1 1 0 1 0 0 0 0 0 1 1 0 1 1 1 1 0 0 0 1 0 0 0 1 0 1 0 0 1\n",
      " 1 1 0 1 0 1 0 1 0 0 1 1 1 1 1 0 0 0 1 0 0 0 1 0 0 1 0 1 0 0 1 1 1 0 1 0 0\n",
      " 1 0 1 1 1 1 0 0 1 1 0 0 0 0 1 1 0 1 0 1 0 1 1 1 1 0 1 0 1 0 0 0 0 1 0 1 0\n",
      " 0 1 1 0 1 1 0 1 0 1 0 0 1 0 0 1 0 0 0 0 0 1 1 0 0 1 1 1 1 0 0 1 0 1 0 0 1\n",
      " 1 1 1 0 1 0 1 1 0 1 0 1 1 0 0 0 1 1 1 1 1 0 0 1 0 0 1 1 1 0 1 0 1 0 0 1 0\n",
      " 1 1 1 1 0 1 1 0 0 1 0 1 1 0 1 1 1 0 0 0 0 0 0 0 1 1 1 1 1 0 0 0 0 1 0 0 0\n",
      " 1 0 0 1 1 0 0 1 0 0 0 0 1 0 0 1 0 0 0 0 0 0 0 1 1 0 1 1 0 0 1 0 1 1 1 1 1\n",
      " 1 0 1 0 1 0 0 0 1 0 0 0 1 0 1 1 0 0 1 1 1 1 0 0 1 0 0 0 1 1 1 0 0 1 0 0 0\n",
      " 0 0 0 0 0 1 0 0 1 1 0 1 1 0 0 1 1 1 1 0 0 1 1 1 0 0 0 1 1 0 0 0 0 0 1 0 1\n",
      " 0 1 0 0 0 0 0 0 0 0 1 1 0 0 1 0 1 0 1 1 1 0 1 0 0 0 0 1 0 0 1 1 0 1 1 0 1\n",
      " 1 1 0 1 1] | features: 296\n",
      "best_student.fitness: 0.698 | best_overall_student.fitness: 0.698\n"
     ]
    },
    {
     "name": "stderr",
     "output_type": "stream",
     "text": [
      "Calculating Population Fitness: 100%|██████████| 20/20 [01:34<00:00,  4.71s/it]\n",
      "Calculating Teacher Phase: 100%|██████████| 20/20 [00:00<00:00, 107546.26it/s]\n",
      "Learner Phase: 100%|██████████| 20/20 [00:00<00:00, 204102.38it/s]\n"
     ]
    },
    {
     "name": "stdout",
     "output_type": "stream",
     "text": [
      "Fitness: 0.7081999999999999| Best: [0 0 1 0 1 1 0 1 0 0 1 0 0 0 0 1 0 0 1 1 1 0 0 0 0 0 1 0 0 1 1 0 1 0 1 1 0\n",
      " 1 1 0 0 0 0 0 1 0 1 0 1 1 0 0 0 0 1 1 0 1 0 1 1 1 1 0 0 0 1 0 0 1 1 0 0 0\n",
      " 0 1 1 0 0 1 1 0 0 0 0 1 0 1 1 0 1 0 0 1 0 0 0 1 0 0 1 0 0 1 0 1 1 1 1 1 1\n",
      " 1 1 1 1 0 0 0 0 0 1 0 0 1 1 0 1 0 0 0 0 1 0 1 0 1 1 0 1 0 0 0 0 0 0 1 0 1\n",
      " 0 0 0 0 1 0 0 1 0 1 1 1 0 0 0 0 0 0 1 0 1 0 0 1 0 0 1 1 1 0 0 1 0 1 0 0 0\n",
      " 0 0 0 0 1 0 1 0 1 1 1 0 1 1 0 1 1 1 1 1 0 0 1 0 1 0 0 1 0 0 1 0 1 0 0 0 0\n",
      " 1 1 0 0 0 0 0 0 0 0 0 0 0 0 0 1 1 0 1 1 0 1 0 0 0 1 1 0 0 0 0 1 1 0 0 1 0\n",
      " 1 0 1 0 1 0 1 1 1 1 0 1 0 0 0 0 0 1 1 0 1 1 1 1 0 0 0 1 0 0 0 1 0 1 0 0 0\n",
      " 1 1 0 1 0 0 0 0 0 0 1 1 1 1 0 1 0 1 1 0 0 0 1 0 0 1 0 1 0 0 1 1 1 0 1 1 0\n",
      " 1 0 1 1 1 1 0 1 1 1 0 0 0 0 1 0 0 1 0 1 0 1 1 0 1 0 1 0 1 0 0 0 0 1 1 1 0\n",
      " 0 0 1 0 1 1 0 1 0 1 0 0 0 0 0 1 0 0 0 0 0 1 1 0 1 0 1 1 1 0 0 1 0 1 0 0 1\n",
      " 1 1 1 0 0 0 1 1 0 0 1 1 1 1 1 0 1 0 1 1 1 0 0 1 0 0 1 1 1 0 1 0 1 0 0 1 0\n",
      " 1 0 1 1 0 0 1 0 0 1 0 1 1 0 1 1 1 0 0 0 0 0 0 0 1 0 1 1 1 0 0 1 0 1 0 0 0\n",
      " 1 0 0 1 1 0 0 1 0 0 0 0 1 0 0 1 0 0 0 0 0 0 0 0 0 0 1 1 0 0 1 0 1 1 1 1 1\n",
      " 1 0 1 0 1 0 0 1 0 0 0 0 0 0 1 0 1 1 1 1 1 1 0 0 1 0 0 0 1 1 1 0 0 1 0 0 0\n",
      " 0 0 0 0 0 1 0 0 1 1 0 1 1 0 0 1 1 0 1 0 0 1 0 1 0 0 0 1 1 0 0 0 0 0 1 0 1\n",
      " 0 0 0 0 0 0 0 0 0 0 1 1 0 0 1 0 1 0 1 1 1 0 0 0 0 0 0 1 0 1 1 1 0 1 1 0 1\n",
      " 1 0 0 1 1] | features: 273\n",
      "best_student.fitness: 0.7081999999999999 | best_overall_student.fitness: 0.7081999999999999\n"
     ]
    },
    {
     "name": "stderr",
     "output_type": "stream",
     "text": [
      "Calculating Population Fitness:   0%|          | 0/20 [00:09<?, ?it/s]\n"
     ]
    }
   ],
   "source": [
    "tlbo = TLBO(cost_function=evaluate_function,\n",
    "            population_size=20,\n",
    "            dim=634,\n",
    "            iterations_size=20)\n",
    " \n",
    "best_student = tlbo.execute()"
   ]
  },
  {
   "cell_type": "markdown",
   "metadata": {},
   "source": [
    "# SVM"
   ]
  },
  {
   "cell_type": "code",
   "execution_count": 2,
   "metadata": {},
   "outputs": [],
   "source": [
    "\n",
    "def run_model(model, X_train, y_train, X_test, y_test):\n",
    "    # Usando log_loss com probabilidades\n",
    "    loss_scorer = make_scorer(log_loss, response_method=\"predict_proba\")\n",
    "\n",
    "    scores = cross_val_score(model, X_train, y_train, cv=3, scoring=loss_scorer)\n",
    "    mean_loss = scores.mean()\n",
    "\n",
    "    model.fit(X_train, y_train)\n",
    "\n",
    "    mean_loss = round(mean_loss, 4)\n",
    "\n",
    "    return scores, mean_loss\n",
    "\n",
    "def evaluate_function(chromossome):\n",
    "    data = pd.read_csv('/home/rafael/Mestrado/Artigo TLBO/database/homem1.csv', delimiter=';')\n",
    "    label_counts = data['Output'].value_counts().sort_index()\n",
    "\n",
    "    data = data.dropna(axis=1)\n",
    "    colunas_com_infinitos = data.columns[data.isin([np.inf, -np.inf]).any()]\n",
    "    data = data.drop(columns=colunas_com_infinitos)\n",
    "\n",
    "    y = data['Output']\n",
    "    X = data.drop(columns=['Output'], inplace=False)\n",
    "\n",
    "    X = X.loc[:, np.array(chromossome, dtype=bool)]\n",
    "\n",
    "    X_train, X_test, y_train, y_test = train_test_split(X, y, test_size=0.33, random_state=42)\n",
    "\n",
    "    model_svm = SVC(probability=True)  # Ativando probabilidades para o SVM\n",
    "\n",
    "    (scores_svm, mean_loss_svm) = run_model(model=model_svm, \n",
    "                                            X_train=X_train, \n",
    "                                            y_train=y_train, \n",
    "                                            X_test=X_test, \n",
    "                                            y_test=y_test)\n",
    "    \n",
    "    features = list(chromossome).count(1)\n",
    "    \n",
    "    return mean_loss_svm + 0.001*features\n"
   ]
  },
  {
   "cell_type": "code",
   "execution_count": null,
   "metadata": {},
   "outputs": [],
   "source": [
    "tlbo = TLBO(cost_function=evaluate_function,\n",
    "            population_size=20,\n",
    "            dim=634,\n",
    "            iterations_size=20)\n",
    " \n",
    "best_student = tlbo.execute()"
   ]
  },
  {
   "cell_type": "markdown",
   "metadata": {},
   "source": [
    "# KNN"
   ]
  },
  {
   "cell_type": "code",
   "execution_count": 16,
   "metadata": {},
   "outputs": [],
   "source": [
    "def run_model(model, X_train, y_train, X_test, y_test, metric):\n",
    "\n",
    "    if metric == 'train':\n",
    "        loss_scorer = make_scorer(log_loss, response_method=\"predict_proba\")\n",
    "        scores = cross_val_score(model, X_train, y_train, cv=3, scoring=loss_scorer)\n",
    "    \n",
    "    elif metric == 'validation':\n",
    "        scores = cross_val_score(model, X_train, y_train, cv=3)\n",
    "\n",
    "    mean_loss = scores.mean()\n",
    "    model.fit(X_train, y_train)\n",
    "    mean_loss = round(mean_loss, 4)\n",
    "\n",
    "    y_pred = model.predict(X_test)\n",
    "    test_accuracy = accuracy_score(y_test, y_pred)\n",
    "\n",
    "    return scores, mean_loss, test_accuracy\n",
    "\n",
    "\n",
    "def evaluate_function(chromossome, metric = 'train'):\n",
    "    data = pd.read_csv('/home/rafael/Mestrado/Artigo TLBO/database/mulher3.csv', delimiter=';')\n",
    "    label_counts = data['Output'].value_counts().sort_index()\n",
    "\n",
    "    data = data.dropna(axis=1)\n",
    "    colunas_com_infinitos = data.columns[data.isin([np.inf, -np.inf]).any()]\n",
    "    data = data.drop(columns=colunas_com_infinitos)\n",
    "\n",
    "    y = data['Output']\n",
    "    X = data.drop(columns=['Output'], inplace=False)\n",
    "\n",
    "    X = X.loc[:, np.array(chromossome, dtype=bool)]\n",
    "\n",
    "    X_train, X_test, y_train, y_test = train_test_split(X, y, test_size=0.33, random_state=42)\n",
    "\n",
    "    # Usando o KNN com 5 vizinhos (padrão)\n",
    "    model_knn = KNeighborsClassifier(n_neighbors=10)\n",
    "\n",
    "    (scores_knn, mean_loss_knn, test_accuracy) = run_model(model=model_knn, \n",
    "                                                           X_train=X_train, \n",
    "                                                           y_train=y_train, \n",
    "                                                           X_test=X_test, \n",
    "                                                           y_test=y_test,\n",
    "                                                           metric=metric)\n",
    "    \n",
    "    features = list(chromossome).count(1)\n",
    "    if metric == 'train':\n",
    "        return mean_loss_knn + 0.001*features\n",
    "        \n",
    "    elif metric == 'validation':\n",
    "        print(f'Accuracy in Training: {mean_loss_knn}')\n",
    "        print(f'Accuracy in Validation: {round(test_accuracy, 4)}')\n",
    "        return mean_loss_knn"
   ]
  },
  {
   "cell_type": "code",
   "execution_count": 17,
   "metadata": {},
   "outputs": [
    {
     "name": "stdout",
     "output_type": "stream",
     "text": [
      "Iteration: 1\n"
     ]
    },
    {
     "name": "stderr",
     "output_type": "stream",
     "text": [
      "Calculating Population Fitness: 100%|██████████| 20/20 [00:14<00:00,  1.37it/s]\n"
     ]
    },
    {
     "name": "stdout",
     "output_type": "stream",
     "text": [
      "------------------- Fitness: 1.986 | features: 320 -------------------\n",
      "\n",
      "Iteration: 2\n"
     ]
    },
    {
     "name": "stderr",
     "output_type": "stream",
     "text": [
      "Calculating Population Fitness: 100%|██████████| 20/20 [00:16<00:00,  1.20it/s]\n"
     ]
    },
    {
     "name": "stdout",
     "output_type": "stream",
     "text": [
      "------------------- Fitness: 1.973 | features: 368 -------------------\n",
      "\n",
      "Iteration: 3\n"
     ]
    },
    {
     "name": "stderr",
     "output_type": "stream",
     "text": [
      "Calculating Population Fitness: 100%|██████████| 20/20 [00:16<00:00,  1.20it/s]\n"
     ]
    },
    {
     "name": "stdout",
     "output_type": "stream",
     "text": [
      "------------------- Fitness: 1.973 | features: 368 -------------------\n",
      "\n",
      "Iteration: 4\n"
     ]
    },
    {
     "name": "stderr",
     "output_type": "stream",
     "text": [
      "Calculating Population Fitness: 100%|██████████| 20/20 [00:16<00:00,  1.21it/s]\n"
     ]
    },
    {
     "name": "stdout",
     "output_type": "stream",
     "text": [
      "------------------- Fitness: 1.973 | features: 368 -------------------\n",
      "\n",
      "Iteration: 5\n"
     ]
    },
    {
     "name": "stderr",
     "output_type": "stream",
     "text": [
      "Calculating Population Fitness: 100%|██████████| 20/20 [00:16<00:00,  1.22it/s]\n"
     ]
    },
    {
     "name": "stdout",
     "output_type": "stream",
     "text": [
      "------------------- Fitness: 1.973 | features: 368 -------------------\n",
      "\n",
      "Iteration: 6\n"
     ]
    },
    {
     "name": "stderr",
     "output_type": "stream",
     "text": [
      "Calculating Population Fitness: 100%|██████████| 20/20 [00:17<00:00,  1.17it/s]\n"
     ]
    },
    {
     "name": "stdout",
     "output_type": "stream",
     "text": [
      "------------------- Fitness: 1.973 | features: 368 -------------------\n",
      "\n",
      "Iteration: 7\n"
     ]
    },
    {
     "name": "stderr",
     "output_type": "stream",
     "text": [
      "Calculating Population Fitness: 100%|██████████| 20/20 [00:16<00:00,  1.22it/s]\n"
     ]
    },
    {
     "name": "stdout",
     "output_type": "stream",
     "text": [
      "------------------- Fitness: 1.973 | features: 368 -------------------\n",
      "\n",
      "Iteration: 8\n"
     ]
    },
    {
     "name": "stderr",
     "output_type": "stream",
     "text": [
      "Calculating Population Fitness: 100%|██████████| 20/20 [00:16<00:00,  1.24it/s]\n"
     ]
    },
    {
     "name": "stdout",
     "output_type": "stream",
     "text": [
      "------------------- Fitness: 1.973 | features: 368 -------------------\n",
      "\n",
      "Iteration: 9\n"
     ]
    },
    {
     "name": "stderr",
     "output_type": "stream",
     "text": [
      "Calculating Population Fitness: 100%|██████████| 20/20 [00:15<00:00,  1.26it/s]\n"
     ]
    },
    {
     "name": "stdout",
     "output_type": "stream",
     "text": [
      "------------------- Fitness: 1.973 | features: 368 -------------------\n",
      "\n",
      "Iteration: 10\n"
     ]
    },
    {
     "name": "stderr",
     "output_type": "stream",
     "text": [
      "Calculating Population Fitness: 100%|██████████| 20/20 [00:15<00:00,  1.25it/s]\n"
     ]
    },
    {
     "name": "stdout",
     "output_type": "stream",
     "text": [
      "------------------- Fitness: 1.943 | features: 362 -------------------\n",
      "\n",
      "Iteration: 11\n"
     ]
    },
    {
     "name": "stderr",
     "output_type": "stream",
     "text": [
      "Calculating Population Fitness: 100%|██████████| 20/20 [00:17<00:00,  1.14it/s]\n"
     ]
    },
    {
     "name": "stdout",
     "output_type": "stream",
     "text": [
      "------------------- Fitness: 1.943 | features: 362 -------------------\n",
      "\n",
      "Iteration: 12\n"
     ]
    },
    {
     "name": "stderr",
     "output_type": "stream",
     "text": [
      "Calculating Population Fitness: 100%|██████████| 20/20 [00:16<00:00,  1.19it/s]\n"
     ]
    },
    {
     "name": "stdout",
     "output_type": "stream",
     "text": [
      "------------------- Fitness: 1.943 | features: 362 -------------------\n",
      "\n",
      "Iteration: 13\n"
     ]
    },
    {
     "name": "stderr",
     "output_type": "stream",
     "text": [
      "Calculating Population Fitness: 100%|██████████| 20/20 [00:15<00:00,  1.29it/s]\n"
     ]
    },
    {
     "name": "stdout",
     "output_type": "stream",
     "text": [
      "------------------- Fitness: 1.943 | features: 362 -------------------\n",
      "\n",
      "Iteration: 14\n"
     ]
    },
    {
     "name": "stderr",
     "output_type": "stream",
     "text": [
      "Calculating Population Fitness: 100%|██████████| 20/20 [00:14<00:00,  1.36it/s]\n"
     ]
    },
    {
     "name": "stdout",
     "output_type": "stream",
     "text": [
      "------------------- Fitness: 1.943 | features: 362 -------------------\n",
      "\n",
      "Iteration: 15\n"
     ]
    },
    {
     "name": "stderr",
     "output_type": "stream",
     "text": [
      "Calculating Population Fitness: 100%|██████████| 20/20 [00:14<00:00,  1.37it/s]\n"
     ]
    },
    {
     "name": "stdout",
     "output_type": "stream",
     "text": [
      "------------------- Fitness: 1.943 | features: 362 -------------------\n",
      "\n",
      "Iteration: 16\n"
     ]
    },
    {
     "name": "stderr",
     "output_type": "stream",
     "text": [
      "Calculating Population Fitness: 100%|██████████| 20/20 [00:14<00:00,  1.39it/s]\n"
     ]
    },
    {
     "name": "stdout",
     "output_type": "stream",
     "text": [
      "------------------- Fitness: 1.943 | features: 362 -------------------\n",
      "\n",
      "Iteration: 17\n"
     ]
    },
    {
     "name": "stderr",
     "output_type": "stream",
     "text": [
      "Calculating Population Fitness: 100%|██████████| 20/20 [00:15<00:00,  1.33it/s]\n"
     ]
    },
    {
     "name": "stdout",
     "output_type": "stream",
     "text": [
      "------------------- Fitness: 1.943 | features: 362 -------------------\n",
      "\n",
      "Iteration: 18\n"
     ]
    },
    {
     "name": "stderr",
     "output_type": "stream",
     "text": [
      "Calculating Population Fitness: 100%|██████████| 20/20 [00:15<00:00,  1.31it/s]\n"
     ]
    },
    {
     "name": "stdout",
     "output_type": "stream",
     "text": [
      "------------------- Fitness: 1.943 | features: 362 -------------------\n",
      "\n",
      "Iteration: 19\n"
     ]
    },
    {
     "name": "stderr",
     "output_type": "stream",
     "text": [
      "Calculating Population Fitness: 100%|██████████| 20/20 [00:15<00:00,  1.30it/s]\n"
     ]
    },
    {
     "name": "stdout",
     "output_type": "stream",
     "text": [
      "------------------- Fitness: 1.943 | features: 362 -------------------\n",
      "\n",
      "Iteration: 20\n"
     ]
    },
    {
     "name": "stderr",
     "output_type": "stream",
     "text": [
      "Calculating Population Fitness: 100%|██████████| 20/20 [00:14<00:00,  1.37it/s]\n"
     ]
    },
    {
     "name": "stdout",
     "output_type": "stream",
     "text": [
      "------------------- Fitness: 1.943 | features: 362 -------------------\n",
      "\n",
      "Accuracy in Training: 0.7729\n",
      "Accuracy in Validation: 0.7898\n"
     ]
    },
    {
     "data": {
      "text/plain": [
       "np.float64(0.7729)"
      ]
     },
     "execution_count": 17,
     "metadata": {},
     "output_type": "execute_result"
    }
   ],
   "source": [
    "tlbo = TLBO(cost_function=evaluate_function,\n",
    "            population_size=20,\n",
    "            dim=634,\n",
    "            iterations_size=20)\n",
    " \n",
    "best_student = tlbo.execute()\n",
    "evaluate_function(best_student.position, metric = 'validation')"
   ]
  },
  {
   "cell_type": "code",
   "execution_count": 19,
   "metadata": {},
   "outputs": [
    {
     "data": {
      "text/plain": [
       "array([0, 0, 0, 1, 0, 0, 0, 1, 1, 0, 1, 0, 1, 0, 1, 1, 1, 0, 1, 1, 1, 0,\n",
       "       1, 1, 0, 0, 0, 0, 1, 1, 1, 1, 0, 1, 1, 1, 1, 0, 1, 1, 0, 1, 1, 0,\n",
       "       1, 0, 0, 0, 0, 0, 1, 0, 1, 1, 0, 1, 1, 1, 1, 1, 1, 0, 1, 0, 1, 0,\n",
       "       1, 1, 0, 0, 1, 0, 1, 1, 0, 0, 1, 1, 0, 0, 1, 0, 0, 0, 1, 1, 1, 1,\n",
       "       0, 0, 1, 1, 1, 0, 1, 0, 0, 0, 0, 1, 1, 1, 0, 0, 1, 1, 1, 0, 1, 1,\n",
       "       0, 0, 0, 1, 0, 0, 1, 0, 1, 0, 0, 1, 0, 0, 0, 0, 1, 0, 1, 0, 1, 0,\n",
       "       1, 1, 1, 1, 0, 1, 1, 1, 1, 1, 1, 1, 0, 1, 0, 0, 1, 1, 1, 0, 0, 1,\n",
       "       1, 1, 0, 1, 1, 0, 0, 1, 0, 0, 1, 0, 0, 0, 0, 0, 1, 1, 0, 1, 1, 0,\n",
       "       0, 1, 1, 1, 0, 0, 1, 1, 0, 0, 1, 1, 1, 1, 0, 0, 1, 1, 1, 0, 1, 0,\n",
       "       0, 1, 1, 0, 0, 1, 1, 0, 1, 0, 0, 0, 1, 1, 0, 1, 1, 1, 0, 0, 1, 0,\n",
       "       0, 1, 0, 1, 0, 0, 0, 1, 1, 1, 1, 1, 1, 1, 0, 0, 0, 0, 0, 1, 0, 1,\n",
       "       1, 0, 1, 1, 1, 0, 1, 1, 0, 1, 0, 0, 0, 1, 1, 1, 0, 1, 0, 1, 1, 1,\n",
       "       0, 0, 0, 1, 1, 1, 1, 0, 0, 1, 1, 1, 0, 1, 0, 1, 0, 1, 1, 1, 1, 1,\n",
       "       1, 0, 0, 1, 1, 1, 0, 1, 0, 1, 1, 1, 0, 1, 1, 1, 0, 0, 0, 1, 0, 0,\n",
       "       1, 1, 1, 1, 1, 1, 1, 1, 1, 1, 0, 1, 1, 1, 0, 1, 1, 1, 1, 0, 1, 1,\n",
       "       0, 1, 1, 1, 1, 1, 1, 1, 1, 0, 1, 0, 0, 0, 1, 1, 0, 1, 0, 0, 1, 0,\n",
       "       1, 1, 0, 1, 0, 0, 1, 1, 1, 0, 1, 1, 1, 1, 1, 1, 0, 1, 0, 1, 0, 1,\n",
       "       1, 1, 1, 1, 0, 0, 0, 0, 1, 1, 1, 1, 1, 0, 0, 1, 1, 0, 0, 1, 1, 1,\n",
       "       1, 1, 1, 0, 1, 1, 0, 1, 1, 1, 0, 0, 1, 0, 0, 1, 0, 0, 0, 1, 1, 0,\n",
       "       1, 0, 1, 1, 1, 1, 0, 1, 1, 1, 1, 1, 1, 1, 1, 1, 1, 0, 0, 1, 0, 1,\n",
       "       1, 0, 0, 0, 0, 0, 1, 1, 0, 0, 1, 0, 1, 1, 1, 0, 0, 1, 1, 0, 1, 1,\n",
       "       0, 0, 1, 0, 0, 1, 0, 1, 0, 1, 0, 1, 0, 0, 0, 1, 1, 0, 0, 1, 1, 1,\n",
       "       0, 1, 1, 1, 1, 1, 1, 0, 0, 1, 1, 1, 1, 1, 0, 0, 1, 1, 1, 0, 0, 1,\n",
       "       0, 1, 1, 0, 1, 0, 0, 0, 0, 0, 0, 1, 0, 0, 1, 0, 1, 0, 1, 0, 0, 1,\n",
       "       1, 1, 0, 0, 0, 1, 1, 1, 1, 1, 1, 0, 1, 0, 1, 1, 0, 1, 1, 0, 1, 1,\n",
       "       1, 1, 0, 1, 1, 1, 0, 0, 0, 1, 0, 0, 1, 1, 1, 1, 0, 0, 1, 0, 0, 1,\n",
       "       0, 0, 0, 1, 1, 0, 1, 1, 1, 1, 1, 0, 1, 1, 1, 0, 1, 0, 1, 1, 0, 0,\n",
       "       0, 0, 1, 0, 1, 0, 0, 0, 0, 0, 0, 1, 0, 1, 1, 1, 1, 1, 1, 1, 1, 1,\n",
       "       0, 0, 0, 1, 0, 1, 0, 1, 0, 0, 0, 0, 0, 1, 1, 1, 1, 0])"
      ]
     },
     "execution_count": 19,
     "metadata": {},
     "output_type": "execute_result"
    }
   ],
   "source": [
    "best_student.position\n"
   ]
  },
  {
   "cell_type": "markdown",
   "metadata": {},
   "source": [
    "# MLP"
   ]
  },
  {
   "cell_type": "markdown",
   "metadata": {},
   "source": [
    "## Homem 1"
   ]
  },
  {
   "cell_type": "code",
   "execution_count": 2,
   "metadata": {},
   "outputs": [],
   "source": [
    "def run_model(model, X_train, y_train, X_test, y_test, metric):\n",
    "\n",
    "    if metric == 'train':\n",
    "        loss_scorer = make_scorer(log_loss, response_method=\"predict_proba\")\n",
    "        scores = cross_val_score(model, X_train, y_train, cv=3, scoring=loss_scorer)\n",
    "    \n",
    "    elif metric == 'validation':\n",
    "        scores = cross_val_score(model, X_train, y_train, cv=3)\n",
    "\n",
    "    mean_loss = scores.mean()\n",
    "    model.fit(X_train, y_train)\n",
    "    mean_loss = round(mean_loss, 4)\n",
    "\n",
    "    y_pred = model.predict(X_test)\n",
    "    y_test = to_categorical(y_test, num_classes=6)\n",
    "\n",
    "    test_accuracy = accuracy_score(y_test, y_pred)\n",
    "\n",
    "    return scores, mean_loss, test_accuracy\n",
    "\n",
    "\n",
    "def evaluate_function(chromossome, metric = 'train'):\n",
    "    data = pd.read_csv('/home/rafael/Mestrado/Artigo TLBO/database/homem1.csv', delimiter=';')\n",
    "    label_counts = data['Output'].value_counts().sort_index()\n",
    "    data['Output'] = data['Output'] - 1\n",
    "    data = data.dropna(axis=1)\n",
    "    colunas_com_infinitos = data.columns[data.isin([np.inf, -np.inf]).any()]\n",
    "    data = data.drop(columns=colunas_com_infinitos)\n",
    "\n",
    "    y = data['Output']\n",
    "    X = data.drop(columns=['Output'], inplace=False)\n",
    "\n",
    "    X = X.loc[:, np.array(chromossome, dtype=bool)]\n",
    "\n",
    "    X_train, X_test, y_train, y_test = train_test_split(X, y, test_size=0.33, random_state=42)\n",
    "\n",
    "\n",
    "    def create_model():\n",
    "        model = Sequential([\n",
    "            Dense(10, activation='tanh', input_shape=(X_train.shape[1],)),\n",
    "            Dense(len(np.unique(y)), activation='softmax')\n",
    "        ])\n",
    "        optimizer = RMSprop(learning_rate=0.001)\n",
    "        model.compile(optimizer=optimizer, loss='categorical_crossentropy', metrics=['accuracy'])\n",
    "        return model\n",
    "\n",
    "    model_mlp = KerasClassifier(build_fn=create_model, epochs=20, verbose=0)\n",
    "\n",
    "    y_train = to_categorical(y_train, num_classes=6)\n",
    "    (scores_knn, mean_loss_knn, test_accuracy) = run_model(model=model_mlp, \n",
    "                                                           X_train=X_train, \n",
    "                                                           y_train=y_train, \n",
    "                                                           X_test=X_test, \n",
    "                                                           y_test=y_test,\n",
    "                                                           metric=metric)\n",
    "    \n",
    "    features = list(chromossome).count(1)\n",
    "    if metric == 'train':\n",
    "        return mean_loss_knn + 0.001*features\n",
    "        \n",
    "    elif metric == 'validation':\n",
    "        print(f'Accuracy in Training: {mean_loss_knn}')\n",
    "        print(f'Accuracy in Validation: {round(test_accuracy, 4)}')\n",
    "        return mean_loss_knn"
   ]
  },
  {
   "cell_type": "code",
   "execution_count": 3,
   "metadata": {},
   "outputs": [
    {
     "name": "stdout",
     "output_type": "stream",
     "text": [
      "Iteration: 1\n"
     ]
    },
    {
     "name": "stderr",
     "output_type": "stream",
     "text": [
      "Calculating Population Fitness:   0%|          | 0/20 [00:00<?, ?it/s]2024-10-21 20:18:25.286476: E external/local_xla/xla/stream_executor/cuda/cuda_driver.cc:266] failed call to cuInit: CUDA_ERROR_NO_DEVICE: no CUDA-capable device is detected\n"
     ]
    },
    {
     "name": "stdout",
     "output_type": "stream",
     "text": [
      "WARNING:tensorflow:5 out of the last 12 calls to <function TensorFlowTrainer.make_train_function.<locals>.one_step_on_iterator at 0x7fe0cf7c6ca0> triggered tf.function retracing. Tracing is expensive and the excessive number of tracings could be due to (1) creating @tf.function repeatedly in a loop, (2) passing tensors with different shapes, (3) passing Python objects instead of tensors. For (1), please define your @tf.function outside of the loop. For (2), @tf.function has reduce_retracing=True option that can avoid unnecessary retracing. For (3), please refer to https://www.tensorflow.org/guide/function#controlling_retracing and https://www.tensorflow.org/api_docs/python/tf/function for  more details.\n",
      "WARNING:tensorflow:5 out of the last 74 calls to <function TensorFlowTrainer.make_predict_function.<locals>.one_step_on_data_distributed at 0x7fe0980e9120> triggered tf.function retracing. Tracing is expensive and the excessive number of tracings could be due to (1) creating @tf.function repeatedly in a loop, (2) passing tensors with different shapes, (3) passing Python objects instead of tensors. For (1), please define your @tf.function outside of the loop. For (2), @tf.function has reduce_retracing=True option that can avoid unnecessary retracing. For (3), please refer to https://www.tensorflow.org/guide/function#controlling_retracing and https://www.tensorflow.org/api_docs/python/tf/function for  more details.\n"
     ]
    },
    {
     "name": "stderr",
     "output_type": "stream",
     "text": [
      "Calculating Population Fitness: 100%|██████████| 20/20 [02:32<00:00,  7.63s/it]\n"
     ]
    },
    {
     "name": "stdout",
     "output_type": "stream",
     "text": [
      "------------------- Fitness: 0.885 | features: 298 -------------------\n",
      "\n",
      "Iteration: 2\n"
     ]
    },
    {
     "name": "stderr",
     "output_type": "stream",
     "text": [
      "Calculating Population Fitness: 100%|██████████| 20/20 [02:31<00:00,  7.58s/it]\n"
     ]
    },
    {
     "name": "stdout",
     "output_type": "stream",
     "text": [
      "------------------- Fitness: 0.87 | features: 298 -------------------\n",
      "\n",
      "Iteration: 3\n"
     ]
    },
    {
     "name": "stderr",
     "output_type": "stream",
     "text": [
      "Calculating Population Fitness:   0%|          | 0/20 [00:00<?, ?it/s]"
     ]
    },
    {
     "name": "stdout",
     "output_type": "stream",
     "text": [
      "WARNING:tensorflow:5 out of the last 182 calls to <function TensorFlowTrainer.make_predict_function.<locals>.one_step_on_data_distributed at 0x7fe0a15a7ce0> triggered tf.function retracing. Tracing is expensive and the excessive number of tracings could be due to (1) creating @tf.function repeatedly in a loop, (2) passing tensors with different shapes, (3) passing Python objects instead of tensors. For (1), please define your @tf.function outside of the loop. For (2), @tf.function has reduce_retracing=True option that can avoid unnecessary retracing. For (3), please refer to https://www.tensorflow.org/guide/function#controlling_retracing and https://www.tensorflow.org/api_docs/python/tf/function for  more details.\n"
     ]
    },
    {
     "name": "stderr",
     "output_type": "stream",
     "text": [
      "Calculating Population Fitness: 100%|██████████| 20/20 [02:30<00:00,  7.50s/it]\n"
     ]
    },
    {
     "name": "stdout",
     "output_type": "stream",
     "text": [
      "------------------- Fitness: 0.87 | features: 298 -------------------\n",
      "\n",
      "Iteration: 4\n"
     ]
    },
    {
     "name": "stderr",
     "output_type": "stream",
     "text": [
      "Calculating Population Fitness: 100%|██████████| 20/20 [02:33<00:00,  7.68s/it]\n"
     ]
    },
    {
     "name": "stdout",
     "output_type": "stream",
     "text": [
      "------------------- Fitness: 0.87 | features: 298 -------------------\n",
      "\n",
      "Iteration: 5\n"
     ]
    },
    {
     "name": "stderr",
     "output_type": "stream",
     "text": [
      "Calculating Population Fitness: 100%|██████████| 20/20 [02:28<00:00,  7.43s/it]\n"
     ]
    },
    {
     "name": "stdout",
     "output_type": "stream",
     "text": [
      "------------------- Fitness: 0.87 | features: 298 -------------------\n",
      "\n",
      "Iteration: 6\n"
     ]
    },
    {
     "name": "stderr",
     "output_type": "stream",
     "text": [
      "Calculating Population Fitness: 100%|██████████| 20/20 [02:33<00:00,  7.65s/it]\n"
     ]
    },
    {
     "name": "stdout",
     "output_type": "stream",
     "text": [
      "------------------- Fitness: 0.87 | features: 298 -------------------\n",
      "\n",
      "Iteration: 7\n"
     ]
    },
    {
     "name": "stderr",
     "output_type": "stream",
     "text": [
      "Calculating Population Fitness: 100%|██████████| 20/20 [02:37<00:00,  7.86s/it]\n"
     ]
    },
    {
     "name": "stdout",
     "output_type": "stream",
     "text": [
      "------------------- Fitness: 0.87 | features: 298 -------------------\n",
      "\n",
      "Iteration: 8\n"
     ]
    },
    {
     "name": "stderr",
     "output_type": "stream",
     "text": [
      "Calculating Population Fitness: 100%|██████████| 20/20 [02:31<00:00,  7.56s/it]\n"
     ]
    },
    {
     "name": "stdout",
     "output_type": "stream",
     "text": [
      "------------------- Fitness: 0.869 | features: 298 -------------------\n",
      "\n",
      "Iteration: 9\n"
     ]
    },
    {
     "name": "stderr",
     "output_type": "stream",
     "text": [
      "Calculating Population Fitness: 100%|██████████| 20/20 [02:39<00:00,  7.97s/it]\n"
     ]
    },
    {
     "name": "stdout",
     "output_type": "stream",
     "text": [
      "------------------- Fitness: 0.867 | features: 303 -------------------\n",
      "\n",
      "Iteration: 10\n"
     ]
    },
    {
     "name": "stderr",
     "output_type": "stream",
     "text": [
      "Calculating Population Fitness: 100%|██████████| 20/20 [02:43<00:00,  8.19s/it]\n"
     ]
    },
    {
     "name": "stdout",
     "output_type": "stream",
     "text": [
      "------------------- Fitness: 0.867 | features: 303 -------------------\n",
      "\n",
      "Iteration: 11\n"
     ]
    },
    {
     "name": "stderr",
     "output_type": "stream",
     "text": [
      "Calculating Population Fitness: 100%|██████████| 20/20 [02:38<00:00,  7.91s/it]\n"
     ]
    },
    {
     "name": "stdout",
     "output_type": "stream",
     "text": [
      "------------------- Fitness: 0.867 | features: 303 -------------------\n",
      "\n",
      "Iteration: 12\n"
     ]
    },
    {
     "name": "stderr",
     "output_type": "stream",
     "text": [
      "Calculating Population Fitness: 100%|██████████| 20/20 [02:38<00:00,  7.92s/it]\n"
     ]
    },
    {
     "name": "stdout",
     "output_type": "stream",
     "text": [
      "------------------- Fitness: 0.867 | features: 303 -------------------\n",
      "\n",
      "Iteration: 13\n"
     ]
    },
    {
     "name": "stderr",
     "output_type": "stream",
     "text": [
      "Calculating Population Fitness: 100%|██████████| 20/20 [02:34<00:00,  7.72s/it]\n"
     ]
    },
    {
     "name": "stdout",
     "output_type": "stream",
     "text": [
      "------------------- Fitness: 0.867 | features: 303 -------------------\n",
      "\n",
      "Iteration: 14\n"
     ]
    },
    {
     "name": "stderr",
     "output_type": "stream",
     "text": [
      "Calculating Population Fitness: 100%|██████████| 20/20 [02:30<00:00,  7.54s/it]\n"
     ]
    },
    {
     "name": "stdout",
     "output_type": "stream",
     "text": [
      "------------------- Fitness: 0.867 | features: 303 -------------------\n",
      "\n",
      "Iteration: 15\n"
     ]
    },
    {
     "name": "stderr",
     "output_type": "stream",
     "text": [
      "Calculating Population Fitness: 100%|██████████| 20/20 [02:33<00:00,  7.67s/it]\n"
     ]
    },
    {
     "name": "stdout",
     "output_type": "stream",
     "text": [
      "------------------- Fitness: 0.867 | features: 303 -------------------\n",
      "\n",
      "Iteration: 16\n"
     ]
    },
    {
     "name": "stderr",
     "output_type": "stream",
     "text": [
      "Calculating Population Fitness:   0%|          | 0/20 [00:00<?, ?it/s]"
     ]
    },
    {
     "ename": "",
     "evalue": "",
     "output_type": "error",
     "traceback": [
      "\u001b[1;31mThe Kernel crashed while executing code in the current cell or a previous cell. \n",
      "\u001b[1;31mPlease review the code in the cell(s) to identify a possible cause of the failure. \n",
      "\u001b[1;31mClick <a href='https://aka.ms/vscodeJupyterKernelCrash'>here</a> for more info. \n",
      "\u001b[1;31mView Jupyter <a href='command:jupyter.viewOutput'>log</a> for further details."
     ]
    }
   ],
   "source": [
    "tlbo = TLBO(cost_function=evaluate_function,\n",
    "            population_size=20,\n",
    "            dim=634,\n",
    "            iterations_size=20)\n",
    " \n",
    "best_student = tlbo.execute()\n",
    "evaluate_function(best_student.position, metric = 'validation')"
   ]
  },
  {
   "cell_type": "code",
   "execution_count": null,
   "metadata": {},
   "outputs": [],
   "source": [
    "best_student.position"
   ]
  },
  {
   "cell_type": "markdown",
   "metadata": {},
   "source": [
    "## Homem 2"
   ]
  },
  {
   "cell_type": "code",
   "execution_count": 2,
   "metadata": {},
   "outputs": [
    {
     "ename": "",
     "evalue": "",
     "output_type": "error",
     "traceback": [
      "\u001b[1;31mThe Kernel crashed while executing code in the current cell or a previous cell. \n",
      "\u001b[1;31mPlease review the code in the cell(s) to identify a possible cause of the failure. \n",
      "\u001b[1;31mClick <a href='https://aka.ms/vscodeJupyterKernelCrash'>here</a> for more info. \n",
      "\u001b[1;31mView Jupyter <a href='command:jupyter.viewOutput'>log</a> for further details."
     ]
    }
   ],
   "source": [
    "def run_model(model, X_train, y_train, X_test, y_test, metric):\n",
    "\n",
    "    if metric == 'train':\n",
    "        loss_scorer = make_scorer(log_loss, response_method=\"predict_proba\")\n",
    "        scores = cross_val_score(model, X_train, y_train, cv=3, scoring=loss_scorer)\n",
    "    \n",
    "    elif metric == 'validation':\n",
    "        scores = cross_val_score(model, X_train, y_train, cv=3)\n",
    "\n",
    "    mean_loss = scores.mean()\n",
    "    model.fit(X_train, y_train)\n",
    "    mean_loss = round(mean_loss, 4)\n",
    "\n",
    "    y_pred = model.predict(X_test)\n",
    "    y_test = to_categorical(y_test, num_classes=6)\n",
    "\n",
    "    test_accuracy = accuracy_score(y_test, y_pred)\n",
    "\n",
    "    return scores, mean_loss, test_accuracy\n",
    "\n",
    "\n",
    "def evaluate_function(chromossome, metric = 'train'):\n",
    "    data = pd.read_csv('/home/rafael/Mestrado/Artigo TLBO/database/homem2.csv', delimiter=';')\n",
    "    label_counts = data['Output'].value_counts().sort_index()\n",
    "    data['Output'] = data['Output'] - 1\n",
    "    data = data.dropna(axis=1)\n",
    "    colunas_com_infinitos = data.columns[data.isin([np.inf, -np.inf]).any()]\n",
    "    data = data.drop(columns=colunas_com_infinitos)\n",
    "\n",
    "    y = data['Output']\n",
    "    X = data.drop(columns=['Output'], inplace=False)\n",
    "\n",
    "    X = X.loc[:, np.array(chromossome, dtype=bool)]\n",
    "\n",
    "    X_train, X_test, y_train, y_test = train_test_split(X, y, test_size=0.33, random_state=42)\n",
    "\n",
    "\n",
    "    def create_model():\n",
    "        model = Sequential([\n",
    "            Dense(10, activation='tanh', input_shape=(X_train.shape[1],)),\n",
    "            Dense(len(np.unique(y)), activation='softmax')\n",
    "        ])\n",
    "        optimizer = RMSprop(learning_rate=0.001)\n",
    "        model.compile(optimizer=optimizer, loss='categorical_crossentropy', metrics=['accuracy'])\n",
    "        return model\n",
    "\n",
    "    model_mlp = KerasClassifier(build_fn=create_model, epochs=20, verbose=0)\n",
    "\n",
    "    y_train = to_categorical(y_train, num_classes=6)\n",
    "    (scores_knn, mean_loss_knn, test_accuracy) = run_model(model=model_mlp, \n",
    "                                                           X_train=X_train, \n",
    "                                                           y_train=y_train, \n",
    "                                                           X_test=X_test, \n",
    "                                                           y_test=y_test,\n",
    "                                                           metric=metric)\n",
    "    \n",
    "    features = list(chromossome).count(1)\n",
    "    if metric == 'train':\n",
    "        return mean_loss_knn + 0.001*features\n",
    "        \n",
    "    elif metric == 'validation':\n",
    "        print(f'Accuracy in Training: {mean_loss_knn}')\n",
    "        print(f'Accuracy in Validation: {round(test_accuracy, 4)}')\n",
    "        return mean_loss_knn"
   ]
  },
  {
   "cell_type": "code",
   "execution_count": 3,
   "metadata": {},
   "outputs": [
    {
     "name": "stdout",
     "output_type": "stream",
     "text": [
      "Iteration: 1\n"
     ]
    },
    {
     "name": "stderr",
     "output_type": "stream",
     "text": [
      "Calculating Population Fitness:   0%|          | 0/20 [00:00<?, ?it/s]2024-10-21 21:04:33.304449: E external/local_xla/xla/stream_executor/cuda/cuda_driver.cc:266] failed call to cuInit: CUDA_ERROR_NO_DEVICE: no CUDA-capable device is detected\n",
      "Calculating Population Fitness: 100%|██████████| 20/20 [03:18<00:00,  9.93s/it]\n"
     ]
    },
    {
     "name": "stdout",
     "output_type": "stream",
     "text": [
      "------------------- Fitness: 0.601 | features: 316 -------------------\n",
      "\n",
      "Iteration: 2\n"
     ]
    },
    {
     "name": "stderr",
     "output_type": "stream",
     "text": [
      "Calculating Population Fitness: 100%|██████████| 20/20 [03:18<00:00,  9.94s/it]\n"
     ]
    },
    {
     "name": "stdout",
     "output_type": "stream",
     "text": [
      "------------------- Fitness: 0.577 | features: 316 -------------------\n",
      "\n",
      "Iteration: 3\n"
     ]
    },
    {
     "name": "stderr",
     "output_type": "stream",
     "text": [
      "Calculating Population Fitness: 100%|██████████| 20/20 [03:18<00:00,  9.92s/it]\n"
     ]
    },
    {
     "name": "stdout",
     "output_type": "stream",
     "text": [
      "------------------- Fitness: 0.577 | features: 316 -------------------\n",
      "\n",
      "Iteration: 4\n"
     ]
    },
    {
     "name": "stderr",
     "output_type": "stream",
     "text": [
      "Calculating Population Fitness: 100%|██████████| 20/20 [03:19<00:00,  9.98s/it]\n"
     ]
    },
    {
     "name": "stdout",
     "output_type": "stream",
     "text": [
      "------------------- Fitness: 0.577 | features: 316 -------------------\n",
      "\n",
      "Iteration: 5\n"
     ]
    },
    {
     "name": "stderr",
     "output_type": "stream",
     "text": [
      "Calculating Population Fitness: 100%|██████████| 20/20 [03:39<00:00, 10.97s/it]\n"
     ]
    },
    {
     "name": "stdout",
     "output_type": "stream",
     "text": [
      "------------------- Fitness: 0.577 | features: 316 -------------------\n",
      "\n",
      "Iteration: 6\n"
     ]
    },
    {
     "name": "stderr",
     "output_type": "stream",
     "text": [
      "Calculating Population Fitness: 100%|██████████| 20/20 [03:31<00:00, 10.58s/it]\n"
     ]
    },
    {
     "name": "stdout",
     "output_type": "stream",
     "text": [
      "------------------- Fitness: 0.577 | features: 316 -------------------\n",
      "\n",
      "Iteration: 7\n"
     ]
    },
    {
     "name": "stderr",
     "output_type": "stream",
     "text": [
      "Calculating Population Fitness: 100%|██████████| 20/20 [03:17<00:00,  9.90s/it]\n"
     ]
    },
    {
     "name": "stdout",
     "output_type": "stream",
     "text": [
      "------------------- Fitness: 0.577 | features: 316 -------------------\n",
      "\n",
      "Iteration: 8\n"
     ]
    },
    {
     "name": "stderr",
     "output_type": "stream",
     "text": [
      "Calculating Population Fitness:  15%|█▌        | 3/20 [01:42<07:36, 26.83s/it] "
     ]
    },
    {
     "name": "stdout",
     "output_type": "stream",
     "text": [
      "WARNING:tensorflow:5 out of the last 200 calls to <function TensorFlowTrainer.make_predict_function.<locals>.one_step_on_data_distributed at 0x7fab5de484a0> triggered tf.function retracing. Tracing is expensive and the excessive number of tracings could be due to (1) creating @tf.function repeatedly in a loop, (2) passing tensors with different shapes, (3) passing Python objects instead of tensors. For (1), please define your @tf.function outside of the loop. For (2), @tf.function has reduce_retracing=True option that can avoid unnecessary retracing. For (3), please refer to https://www.tensorflow.org/guide/function#controlling_retracing and https://www.tensorflow.org/api_docs/python/tf/function for  more details.\n"
     ]
    },
    {
     "name": "stderr",
     "output_type": "stream",
     "text": [
      "Calculating Population Fitness: 100%|██████████| 20/20 [02:57<00:00,  8.85s/it]\n"
     ]
    },
    {
     "name": "stdout",
     "output_type": "stream",
     "text": [
      "------------------- Fitness: 0.574 | features: 316 -------------------\n",
      "\n",
      "Iteration: 9\n"
     ]
    },
    {
     "name": "stderr",
     "output_type": "stream",
     "text": [
      "Calculating Population Fitness: 100%|██████████| 20/20 [03:25<00:00, 10.30s/it]\n"
     ]
    },
    {
     "name": "stdout",
     "output_type": "stream",
     "text": [
      "------------------- Fitness: 0.574 | features: 316 -------------------\n",
      "\n",
      "Iteration: 10\n"
     ]
    },
    {
     "name": "stderr",
     "output_type": "stream",
     "text": [
      "Calculating Population Fitness: 100%|██████████| 20/20 [03:24<00:00, 10.24s/it]\n"
     ]
    },
    {
     "name": "stdout",
     "output_type": "stream",
     "text": [
      "------------------- Fitness: 0.574 | features: 316 -------------------\n",
      "\n",
      "Iteration: 11\n"
     ]
    },
    {
     "name": "stderr",
     "output_type": "stream",
     "text": [
      "Calculating Population Fitness: 100%|██████████| 20/20 [03:29<00:00, 10.45s/it]\n"
     ]
    },
    {
     "name": "stdout",
     "output_type": "stream",
     "text": [
      "------------------- Fitness: 0.574 | features: 316 -------------------\n",
      "\n",
      "Iteration: 12\n"
     ]
    },
    {
     "name": "stderr",
     "output_type": "stream",
     "text": [
      "Calculating Population Fitness:   0%|          | 0/20 [00:00<?, ?it/s]"
     ]
    },
    {
     "name": "stdout",
     "output_type": "stream",
     "text": [
      "WARNING:tensorflow:5 out of the last 37 calls to <function TensorFlowTrainer.make_predict_function.<locals>.one_step_on_data_distributed at 0x7fab4a1344a0> triggered tf.function retracing. Tracing is expensive and the excessive number of tracings could be due to (1) creating @tf.function repeatedly in a loop, (2) passing tensors with different shapes, (3) passing Python objects instead of tensors. For (1), please define your @tf.function outside of the loop. For (2), @tf.function has reduce_retracing=True option that can avoid unnecessary retracing. For (3), please refer to https://www.tensorflow.org/guide/function#controlling_retracing and https://www.tensorflow.org/api_docs/python/tf/function for  more details.\n"
     ]
    },
    {
     "name": "stderr",
     "output_type": "stream",
     "text": [
      "Calculating Population Fitness: 100%|██████████| 20/20 [03:24<00:00, 10.20s/it]\n"
     ]
    },
    {
     "name": "stdout",
     "output_type": "stream",
     "text": [
      "------------------- Fitness: 0.574 | features: 316 -------------------\n",
      "\n",
      "Iteration: 13\n"
     ]
    },
    {
     "name": "stderr",
     "output_type": "stream",
     "text": [
      "Calculating Population Fitness: 100%|██████████| 20/20 [03:27<00:00, 10.38s/it]\n"
     ]
    },
    {
     "name": "stdout",
     "output_type": "stream",
     "text": [
      "------------------- Fitness: 0.574 | features: 316 -------------------\n",
      "\n",
      "Iteration: 14\n"
     ]
    },
    {
     "name": "stderr",
     "output_type": "stream",
     "text": [
      "Calculating Population Fitness:  35%|███▌      | 7/20 [02:14<02:18, 10.68s/it] "
     ]
    }
   ],
   "source": [
    "tlbo = TLBO(cost_function=evaluate_function,\n",
    "            population_size=20,\n",
    "            dim=634,\n",
    "            iterations_size=20)\n",
    " \n",
    "best_student = tlbo.execute()\n",
    "evaluate_function(best_student.position, metric = 'validation')"
   ]
  },
  {
   "cell_type": "code",
   "execution_count": null,
   "metadata": {},
   "outputs": [],
   "source": [
    "best_student.position"
   ]
  },
  {
   "cell_type": "markdown",
   "metadata": {},
   "source": [
    "## Mulher 1"
   ]
  },
  {
   "cell_type": "code",
   "execution_count": null,
   "metadata": {},
   "outputs": [],
   "source": [
    "def run_model(model, X_train, y_train, X_test, y_test, metric):\n",
    "\n",
    "    if metric == 'train':\n",
    "        loss_scorer = make_scorer(log_loss, response_method=\"predict_proba\")\n",
    "        scores = cross_val_score(model, X_train, y_train, cv=3, scoring=loss_scorer)\n",
    "    \n",
    "    elif metric == 'validation':\n",
    "        scores = cross_val_score(model, X_train, y_train, cv=3)\n",
    "\n",
    "    mean_loss = scores.mean()\n",
    "    model.fit(X_train, y_train)\n",
    "    mean_loss = round(mean_loss, 4)\n",
    "\n",
    "    y_pred = model.predict(X_test)\n",
    "    y_test = to_categorical(y_test, num_classes=6)\n",
    "\n",
    "    test_accuracy = accuracy_score(y_test, y_pred)\n",
    "\n",
    "    return scores, mean_loss, test_accuracy\n",
    "\n",
    "\n",
    "def evaluate_function(chromossome, metric = 'train'):\n",
    "    data = pd.read_csv('/home/rafael/Mestrado/Artigo TLBO/database/mulher1.csv', delimiter=';')\n",
    "    label_counts = data['Output'].value_counts().sort_index()\n",
    "    data['Output'] = data['Output'] - 1\n",
    "    data = data.dropna(axis=1)\n",
    "    colunas_com_infinitos = data.columns[data.isin([np.inf, -np.inf]).any()]\n",
    "    data = data.drop(columns=colunas_com_infinitos)\n",
    "\n",
    "    y = data['Output']\n",
    "    X = data.drop(columns=['Output'], inplace=False)\n",
    "\n",
    "    X = X.loc[:, np.array(chromossome, dtype=bool)]\n",
    "\n",
    "    X_train, X_test, y_train, y_test = train_test_split(X, y, test_size=0.33, random_state=42)\n",
    "\n",
    "\n",
    "    def create_model():\n",
    "        model = Sequential([\n",
    "            Dense(10, activation='tanh', input_shape=(X_train.shape[1],)),\n",
    "            Dense(len(np.unique(y)), activation='softmax')\n",
    "        ])\n",
    "        optimizer = RMSprop(learning_rate=0.001)\n",
    "        model.compile(optimizer=optimizer, loss='categorical_crossentropy', metrics=['accuracy'])\n",
    "        return model\n",
    "\n",
    "    model_mlp = KerasClassifier(build_fn=create_model, epochs=20, verbose=0)\n",
    "\n",
    "    y_train = to_categorical(y_train, num_classes=6)\n",
    "    (scores_knn, mean_loss_knn, test_accuracy) = run_model(model=model_mlp, \n",
    "                                                           X_train=X_train, \n",
    "                                                           y_train=y_train, \n",
    "                                                           X_test=X_test, \n",
    "                                                           y_test=y_test,\n",
    "                                                           metric=metric)\n",
    "    \n",
    "    features = list(chromossome).count(1)\n",
    "    if metric == 'train':\n",
    "        return mean_loss_knn + 0.001*features\n",
    "        \n",
    "    elif metric == 'validation':\n",
    "        print(f'Accuracy in Training: {mean_loss_knn}')\n",
    "        print(f'Accuracy in Validation: {round(test_accuracy, 4)}')\n",
    "        return mean_loss_knn"
   ]
  },
  {
   "cell_type": "code",
   "execution_count": null,
   "metadata": {},
   "outputs": [],
   "source": [
    "tlbo = TLBO(cost_function=evaluate_function,\n",
    "            population_size=20,\n",
    "            dim=634,\n",
    "            iterations_size=20)\n",
    " \n",
    "best_student = tlbo.execute()\n",
    "evaluate_function(best_student.position, metric = 'validation')"
   ]
  },
  {
   "cell_type": "code",
   "execution_count": null,
   "metadata": {},
   "outputs": [],
   "source": [
    "best_student.position"
   ]
  },
  {
   "cell_type": "markdown",
   "metadata": {},
   "source": [
    "## Mulher 2"
   ]
  },
  {
   "cell_type": "code",
   "execution_count": null,
   "metadata": {},
   "outputs": [],
   "source": [
    "def run_model(model, X_train, y_train, X_test, y_test, metric):\n",
    "\n",
    "    if metric == 'train':\n",
    "        loss_scorer = make_scorer(log_loss, response_method=\"predict_proba\")\n",
    "        scores = cross_val_score(model, X_train, y_train, cv=3, scoring=loss_scorer)\n",
    "    \n",
    "    elif metric == 'validation':\n",
    "        scores = cross_val_score(model, X_train, y_train, cv=3)\n",
    "\n",
    "    mean_loss = scores.mean()\n",
    "    model.fit(X_train, y_train)\n",
    "    mean_loss = round(mean_loss, 4)\n",
    "\n",
    "    y_pred = model.predict(X_test)\n",
    "    y_test = to_categorical(y_test, num_classes=6)\n",
    "\n",
    "    test_accuracy = accuracy_score(y_test, y_pred)\n",
    "\n",
    "    return scores, mean_loss, test_accuracy\n",
    "\n",
    "\n",
    "def evaluate_function(chromossome, metric = 'train'):\n",
    "    data = pd.read_csv('/home/rafael/Mestrado/Artigo TLBO/database/mulher2.csv', delimiter=';')\n",
    "    label_counts = data['Output'].value_counts().sort_index()\n",
    "    data['Output'] = data['Output'] - 1\n",
    "    data = data.dropna(axis=1)\n",
    "    colunas_com_infinitos = data.columns[data.isin([np.inf, -np.inf]).any()]\n",
    "    data = data.drop(columns=colunas_com_infinitos)\n",
    "\n",
    "    y = data['Output']\n",
    "    X = data.drop(columns=['Output'], inplace=False)\n",
    "\n",
    "    X = X.loc[:, np.array(chromossome, dtype=bool)]\n",
    "\n",
    "    X_train, X_test, y_train, y_test = train_test_split(X, y, test_size=0.33, random_state=42)\n",
    "\n",
    "\n",
    "    def create_model():\n",
    "        model = Sequential([\n",
    "            Dense(10, activation='tanh', input_shape=(X_train.shape[1],)),\n",
    "            Dense(len(np.unique(y)), activation='softmax')\n",
    "        ])\n",
    "        optimizer = RMSprop(learning_rate=0.001)\n",
    "        model.compile(optimizer=optimizer, loss='categorical_crossentropy', metrics=['accuracy'])\n",
    "        return model\n",
    "\n",
    "    model_mlp = KerasClassifier(build_fn=create_model, epochs=20, verbose=0)\n",
    "\n",
    "    y_train = to_categorical(y_train, num_classes=6)\n",
    "    (scores_knn, mean_loss_knn, test_accuracy) = run_model(model=model_mlp, \n",
    "                                                           X_train=X_train, \n",
    "                                                           y_train=y_train, \n",
    "                                                           X_test=X_test, \n",
    "                                                           y_test=y_test,\n",
    "                                                           metric=metric)\n",
    "    \n",
    "    features = list(chromossome).count(1)\n",
    "    if metric == 'train':\n",
    "        return mean_loss_knn + 0.001*features\n",
    "        \n",
    "    elif metric == 'validation':\n",
    "        print(f'Accuracy in Training: {mean_loss_knn}')\n",
    "        print(f'Accuracy in Validation: {round(test_accuracy, 4)}')\n",
    "        return mean_loss_knn"
   ]
  },
  {
   "cell_type": "code",
   "execution_count": null,
   "metadata": {},
   "outputs": [],
   "source": [
    "tlbo = TLBO(cost_function=evaluate_function,\n",
    "            population_size=20,\n",
    "            dim=634,\n",
    "            iterations_size=20)\n",
    " \n",
    "best_student = tlbo.execute()\n",
    "evaluate_function(best_student.position, metric = 'validation')"
   ]
  },
  {
   "cell_type": "code",
   "execution_count": null,
   "metadata": {},
   "outputs": [],
   "source": [
    "best_student.position"
   ]
  },
  {
   "cell_type": "markdown",
   "metadata": {},
   "source": [
    "## Mulher 3"
   ]
  },
  {
   "cell_type": "code",
   "execution_count": null,
   "metadata": {},
   "outputs": [],
   "source": [
    "def run_model(model, X_train, y_train, X_test, y_test, metric):\n",
    "\n",
    "    if metric == 'train':\n",
    "        loss_scorer = make_scorer(log_loss, response_method=\"predict_proba\")\n",
    "        scores = cross_val_score(model, X_train, y_train, cv=3, scoring=loss_scorer)\n",
    "    \n",
    "    elif metric == 'validation':\n",
    "        scores = cross_val_score(model, X_train, y_train, cv=3)\n",
    "\n",
    "    mean_loss = scores.mean()\n",
    "    model.fit(X_train, y_train)\n",
    "    mean_loss = round(mean_loss, 4)\n",
    "\n",
    "    y_pred = model.predict(X_test)\n",
    "    y_test = to_categorical(y_test, num_classes=6)\n",
    "\n",
    "    test_accuracy = accuracy_score(y_test, y_pred)\n",
    "\n",
    "    return scores, mean_loss, test_accuracy\n",
    "\n",
    "\n",
    "def evaluate_function(chromossome, metric = 'train'):\n",
    "    data = pd.read_csv('/home/rafael/Mestrado/Artigo TLBO/database/mulher3.csv', delimiter=';')\n",
    "    label_counts = data['Output'].value_counts().sort_index()\n",
    "    data['Output'] = data['Output'] - 1\n",
    "    data = data.dropna(axis=1)\n",
    "    colunas_com_infinitos = data.columns[data.isin([np.inf, -np.inf]).any()]\n",
    "    data = data.drop(columns=colunas_com_infinitos)\n",
    "\n",
    "    y = data['Output']\n",
    "    X = data.drop(columns=['Output'], inplace=False)\n",
    "\n",
    "    X = X.loc[:, np.array(chromossome, dtype=bool)]\n",
    "\n",
    "    X_train, X_test, y_train, y_test = train_test_split(X, y, test_size=0.33, random_state=42)\n",
    "\n",
    "\n",
    "    def create_model():\n",
    "        model = Sequential([\n",
    "            Dense(10, activation='tanh', input_shape=(X_train.shape[1],)),\n",
    "            Dense(len(np.unique(y)), activation='softmax')\n",
    "        ])\n",
    "        optimizer = RMSprop(learning_rate=0.001)\n",
    "        model.compile(optimizer=optimizer, loss='categorical_crossentropy', metrics=['accuracy'])\n",
    "        return model\n",
    "\n",
    "    model_mlp = KerasClassifier(build_fn=create_model, epochs=20, verbose=0)\n",
    "\n",
    "    y_train = to_categorical(y_train, num_classes=6)\n",
    "    (scores_knn, mean_loss_knn, test_accuracy) = run_model(model=model_mlp, \n",
    "                                                           X_train=X_train, \n",
    "                                                           y_train=y_train, \n",
    "                                                           X_test=X_test, \n",
    "                                                           y_test=y_test,\n",
    "                                                           metric=metric)\n",
    "    \n",
    "    features = list(chromossome).count(1)\n",
    "    if metric == 'train':\n",
    "        return mean_loss_knn + 0.001*features\n",
    "        \n",
    "    elif metric == 'validation':\n",
    "        print(f'Accuracy in Training: {mean_loss_knn}')\n",
    "        print(f'Accuracy in Validation: {round(test_accuracy, 4)}')\n",
    "        return mean_loss_knn"
   ]
  },
  {
   "cell_type": "code",
   "execution_count": null,
   "metadata": {},
   "outputs": [],
   "source": [
    "tlbo = TLBO(cost_function=evaluate_function,\n",
    "            population_size=20,\n",
    "            dim=634,\n",
    "            iterations_size=20)\n",
    " \n",
    "best_student = tlbo.execute()\n",
    "evaluate_function(best_student.position, metric = 'validation')"
   ]
  },
  {
   "cell_type": "code",
   "execution_count": null,
   "metadata": {},
   "outputs": [],
   "source": [
    "best_student.position"
   ]
  }
 ],
 "metadata": {
  "kernelspec": {
   "display_name": ".venv",
   "language": "python",
   "name": "python3"
  },
  "language_info": {
   "codemirror_mode": {
    "name": "ipython",
    "version": 3
   },
   "file_extension": ".py",
   "mimetype": "text/x-python",
   "name": "python",
   "nbconvert_exporter": "python",
   "pygments_lexer": "ipython3",
   "version": "3.12.4"
  }
 },
 "nbformat": 4,
 "nbformat_minor": 2
}
